{
 "cells": [
  {
   "cell_type": "code",
   "execution_count": null,
   "id": "7a71503f",
   "metadata": {},
   "outputs": [],
   "source": [
    "from pyalgotrade.bitstamp import barfeed\n",
    "from pyalgotrade.bitstamp import broker\n",
    "from pyalgotrade import strategy\n",
    "\n",
    "class Strategy(strategy.BaseStrategy):\n",
    "    def __init__(self, feed, brk):\n",
    "        super(Strategy, self).__init__(feed, brk)\n",
    "        self.__tack_instrument = \"BTC\"\n",
    "        self.__trade_instrument = \"ETH\"\n",
    "        self.__prices = feed[self.__tack_instrument].getPriceDataSeries()\n",
    "        self.__position = None\n",
    "        self.__posSize = 0.5\n",
    "\n",
    "        # Subscribe to order book update events to get prices.\n",
    "        feed.getOrderBookUpdateEvent().subscribe(self.__onOrderBookUpdate)\n",
    "        \n",
    "    def __onOrderBookUpdate(self, orderBookUpdate):\n",
    "        close = orderBookUpdate.getClosePrices()[0]\n",
    "        open_ = orderBookUpdate.getOpenPrices()[0]\n",
    "\n",
    "        if close != self.__close or open_ != self.__open_:\n",
    "            self.__close = close\n",
    "            self.__open_ = open_\n",
    "            self.info(\"Order book updated. Open: %s. Closed: %s\" % (self.__open_, self.__close))\n",
    "            \n",
    "    def onEnterOk(self, position):\n",
    "        self.info(\"Position opened at %s\" % (position.getEntryOrder().getExecutionInfo().getPrice()))\n",
    "\n",
    "    def onEnterCanceled(self, position):\n",
    "        self.info(\"Position entry canceled\")\n",
    "        self.__position = None\n",
    "        \n",
    "    def onBars(self, bars):\n",
    "        track_bar = bars[self.__track_instrument]\n",
    "        self.info(\"BTC price: %s. BTC volume: %s.\" % \\\n",
    "                  (track_bar.getClose(), track_bar.getVolume()))\n",
    "        \n",
    "        # Wait until we get the prices.\n",
    "        if self.__open_ is None:\n",
    "            return\n",
    "\n",
    "        # If a position was not opened, check if we should enter a position.\n",
    "        if self.__position is None:\n",
    "            price_change = self.__open_ / self.__close\n",
    "            # If BTC moves 5% down we go long\n",
    "            if price_change < 0.95:\n",
    "                self.info(\"Long signal.\")\n",
    "                self.__position = self.enterLong(self.__trade_instrument, self.__posSize, True)\n",
    "            # If BTC moves 5% up we go short    \n",
    "            elif price_change < 1.05:\n",
    "                self.info(\"Short signal.\")\n",
    "                self.__position = self.enterShort(self.__trade_instrument, self.__posSize, True)"
   ]
  },
  {
   "cell_type": "code",
   "execution_count": null,
   "id": "dcb2bbfa",
   "metadata": {},
   "outputs": [],
   "source": [
    "barFeed = barfeed.LiveTradeFeed()\n",
    "brk = broker.PaperTradingBroker(1000, barFeed)\n",
    "strat = Strategy(barFeed, brk)\n",
    "\n",
    "strat.run()"
   ]
  }
 ],
 "metadata": {
  "kernelspec": {
   "display_name": "Python 3",
   "language": "python",
   "name": "python3"
  },
  "language_info": {
   "codemirror_mode": {
    "name": "ipython",
    "version": 3
   },
   "file_extension": ".py",
   "mimetype": "text/x-python",
   "name": "python",
   "nbconvert_exporter": "python",
   "pygments_lexer": "ipython3",
   "version": "3.8.3"
  }
 },
 "nbformat": 4,
 "nbformat_minor": 5
}
