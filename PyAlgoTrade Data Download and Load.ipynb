{
 "cells": [
  {
   "cell_type": "code",
   "execution_count": null,
   "id": "94c65ce6",
   "metadata": {},
   "outputs": [],
   "source": [
    "#pip install pyalgotrade"
   ]
  },
  {
   "cell_type": "code",
   "execution_count": null,
   "id": "193cada4",
   "metadata": {},
   "outputs": [],
   "source": [
    "from pyalgotrade.tools import quandl\n",
    "\n",
    "# Obtain GOOGL bars\n",
    "instrument=['GOOGL']\n",
    "feed = quandl.build_feed(\"WIKI\", instrument, 2019, 2020, \".\")"
   ]
  },
  {
   "cell_type": "code",
   "execution_count": null,
   "id": "9207dfbf",
   "metadata": {},
   "outputs": [],
   "source": [
    "from pyalgotrade.barfeed import quandlfeed\n",
    "\n",
    "data = quandlfeed.Feed()\n",
    "data.addBarsFromCSV(\"googl\", \"WIKI-GOOGL-2019-quandl.csv\")"
   ]
  }
 ],
 "metadata": {
  "kernelspec": {
   "display_name": "Python 3",
   "language": "python",
   "name": "python3"
  },
  "language_info": {
   "codemirror_mode": {
    "name": "ipython",
    "version": 3
   },
   "file_extension": ".py",
   "mimetype": "text/x-python",
   "name": "python",
   "nbconvert_exporter": "python",
   "pygments_lexer": "ipython3",
   "version": "3.8.3"
  }
 },
 "nbformat": 4,
 "nbformat_minor": 5
}
