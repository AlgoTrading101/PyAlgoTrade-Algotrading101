{
 "cells": [
  {
   "cell_type": "code",
   "execution_count": null,
   "id": "10253876",
   "metadata": {},
   "outputs": [],
   "source": [
    "from pyalgotrade import strategy\n",
    "from pyalgotrade.bitstamp import barfeed\n",
    "from pyalgotrade.bitstamp import broker\n",
    "from pyalgotrade.twitter import feed as twitterfeed\n",
    "\n",
    "class Strategy(strategy.BaseStrategy):\n",
    "    def __init__(self, feed, brk, twitterFeed):\n",
    "        super(Strategy, self).__init__(feed, brk)\n",
    "        self.__instrument = \"BTC\"\n",
    "\n",
    "        # Subscribe to Twitter events.\n",
    "        twitterFeed.subscribe(self.__onTweet)\n",
    "\n",
    "    def __onTweet(self, data):\n",
    "        try:\n",
    "            self.info(\"Twitter: %s\" % (data[\"text\"]))\n",
    "        except KeyError:\n",
    "            pass\n",
    "\n",
    "    def onBars(self, bars):\n",
    "        bar = bars[self.__instrument]\n",
    "        self.info(\"Price: %s.\" % bar.getClose())"
   ]
  },
  {
   "cell_type": "code",
   "execution_count": null,
   "id": "5812c3e4",
   "metadata": {},
   "outputs": [],
   "source": [
    "consumer_key = \"\"\n",
    "consumer_secret = \"\"\n",
    "\n",
    "access_token = \"\"\n",
    "access_token_secret = \"\"\n",
    "\n",
    "track = [\"bitcoin\", \"btc\", \"bitstamp\"]\n",
    "follow = []\n",
    "languages = [\"en\"]\n",
    "twitterFeed = twitterfeed.TwitterFeed(consumer_key, \n",
    "                                      consumer_secret, \n",
    "                                      access_token, \n",
    "                                      access_token_secret, \n",
    "                                      track, \n",
    "                                      follow, \n",
    "                                      languages)\n",
    "\n",
    "barFeed = barfeed.LiveTradeFeed()\n",
    "brk = broker.PaperTradingBroker(1000, barFeed)\n",
    "strat = Strategy(barFeed, brk, twitterFeed)\n",
    "\n",
    "# Add twitterFeed to the event dispatch loop.\n",
    "strat.getDispatcher().addSubject(twitterFeed)\n",
    "strat.run()"
   ]
  }
 ],
 "metadata": {
  "kernelspec": {
   "display_name": "Python 3",
   "language": "python",
   "name": "python3"
  },
  "language_info": {
   "codemirror_mode": {
    "name": "ipython",
    "version": 3
   },
   "file_extension": ".py",
   "mimetype": "text/x-python",
   "name": "python",
   "nbconvert_exporter": "python",
   "pygments_lexer": "ipython3",
   "version": "3.8.3"
  }
 },
 "nbformat": 4,
 "nbformat_minor": 5
}
